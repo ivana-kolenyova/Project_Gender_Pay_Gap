{
 "cells": [
  {
   "cell_type": "code",
   "execution_count": 2,
   "metadata": {},
   "outputs": [],
   "source": [
    "import pandas as pd"
   ]
  },
  {
   "cell_type": "code",
   "execution_count": 3,
   "metadata": {},
   "outputs": [],
   "source": [
    "# Nacitanie a uprava dat\n",
    "inflace = pd.read_csv(\"mira_inflace.csv\")\n",
    "platy = pd.read_csv(\"brno_muzi_zeny.csv\")\n",
    "\n",
    "inflace = inflace.replace(\",\", \".\", regex=True)\n",
    "\n",
    "inflace.columns = inflace.columns.str.lower()\n",
    "platy.columns = platy.columns.str.lower()\n",
    "\n",
    "# Zlucenie na zaklade LEFT JOIN (prazdne hodnoty)\n",
    "Inflace_a_platy_FACT = pd.merge(platy, inflace, on=\"rok\", how=\"left\")\n",
    "\n",
    "Inflace_a_platy_FACT.rename(columns={\"uhrn\": \"inflace\", \"muzi\": \"platy_muzi\", \"zeny\": \"platy_zeny\"},\n",
    "                            inplace=True)\n",
    "\n",
    "stlpce = [\"rok\", \"platy_muzi\", \"platy_zeny\", \"inflace\"]\n",
    "Inflace_a_platy_FACT = Inflace_a_platy_FACT[stlpce]\n",
    "\n",
    "Inflace_a_platy_FACT.to_csv(\"Inflace_a_platy_FACT.csv\", index=False)"
   ]
  }
 ],
 "metadata": {
  "kernelspec": {
   "display_name": "Python 3",
   "language": "python",
   "name": "python3"
  },
  "language_info": {
   "codemirror_mode": {
    "name": "ipython",
    "version": 3
   },
   "file_extension": ".py",
   "mimetype": "text/x-python",
   "name": "python",
   "nbconvert_exporter": "python",
   "pygments_lexer": "ipython3",
   "version": "3.12.1"
  }
 },
 "nbformat": 4,
 "nbformat_minor": 2
}
