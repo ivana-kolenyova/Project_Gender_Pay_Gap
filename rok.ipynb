{
 "cells": [
  {
   "cell_type": "code",
   "execution_count": 24,
   "metadata": {},
   "outputs": [],
   "source": [
    "import pandas as pd\n",
    "import csv"
   ]
  },
  {
   "cell_type": "code",
   "execution_count": null,
   "metadata": {},
   "outputs": [],
   "source": [
    "nemovitosti = pd.read_csv(\"Nemovitosti_FACT.csv\", encoding=\"utf-8\")\n",
    "pronajmy = pd.read_csv(\"Pronajmy_FACT.csv\", encoding=\"utf-8\")\n",
    "inflace = pd.read_csv(\"Inflace_a_platy_FACT.csv\", encoding=\"utf-8\")\n",
    "hypo = pd.read_csv(\"Hypoteka_FACT.csv\", encoding=\"utf-8\")"
   ]
  },
  {
   "cell_type": "code",
   "execution_count": 26,
   "metadata": {},
   "outputs": [],
   "source": [
    "# Ziskanie unikatnych rokov zo vsetkych tabuliek\n",
    "vsetky_roky = pd.concat([nemovitosti[\"rok\"], pronajmy[\"rok\"], inflace[\"rok\"], hypo[\"rok\"]]).unique()\n",
    "\n",
    "dim_rok = pd.DataFrame({\"rok\": vsetky_roky}) # vytvorenie novej dimenzie\n",
    "\n",
    "dim_rok = dim_rok.dropna() # odstranenie prazdnych riadkov\n",
    "\n",
    "dim_rok[\"rok\"] = dim_rok[\"rok\"].astype(int) # prevod na int\n",
    "\n",
    "dim_rok = dim_rok.sort_values(by=\"rok\").reset_index(drop=True) # zoradenie"
   ]
  },
  {
   "cell_type": "code",
   "execution_count": 29,
   "metadata": {},
   "outputs": [],
   "source": [
    "dim_rok.to_csv(\"Rok_DIM.csv\", index=False, encoding=\"utf-8\")"
   ]
  }
 ],
 "metadata": {
  "kernelspec": {
   "display_name": "Python 3",
   "language": "python",
   "name": "python3"
  },
  "language_info": {
   "codemirror_mode": {
    "name": "ipython",
    "version": 3
   },
   "file_extension": ".py",
   "mimetype": "text/x-python",
   "name": "python",
   "nbconvert_exporter": "python",
   "pygments_lexer": "ipython3",
   "version": "3.12.1"
  }
 },
 "nbformat": 4,
 "nbformat_minor": 2
}
