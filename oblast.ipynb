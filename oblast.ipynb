{
 "cells": [
  {
   "cell_type": "code",
   "execution_count": 1,
   "metadata": {},
   "outputs": [],
   "source": [
    "import pandas as pd\n",
    "import csv\n",
    "from unidecode import unidecode"
   ]
  },
  {
   "cell_type": "code",
   "execution_count": 3,
   "metadata": {},
   "outputs": [],
   "source": [
    "nemovitosti = pd.read_csv(\"nemovitosti.csv\", encoding=\"utf-8\")\n",
    "nemovitosti.rename(columns={\"data_address\": \"adresa\"},inplace=True) # premenovanie stlpca"
   ]
  },
  {
   "cell_type": "code",
   "execution_count": null,
   "metadata": {},
   "outputs": [],
   "source": [
    "print(nemovitosti.head())"
   ]
  },
  {
   "cell_type": "code",
   "execution_count": null,
   "metadata": {},
   "outputs": [],
   "source": [
    "print(nemovitosti.info())"
   ]
  },
  {
   "cell_type": "code",
   "execution_count": 6,
   "metadata": {},
   "outputs": [],
   "source": [
    "# Odstranenie diakritiky\n",
    "def remove_diacritics(text):\n",
    "    if isinstance(text, str):\n",
    "        return unidecode(text)\n",
    "    return text\n",
    "\n",
    "text_columns = nemovitosti.select_dtypes(include=[\"object\"]).columns\n",
    "for col in text_columns:\n",
    "    nemovitosti[col] = nemovitosti[col].apply(remove_diacritics)"
   ]
  },
  {
   "cell_type": "code",
   "execution_count": 7,
   "metadata": {},
   "outputs": [],
   "source": [
    "# Filtrovanie stlpcov pre novu dimenziu\n",
    "columns = [\"lokalita\", \"adresa\", \"oblast\", \"mesto\", \"kod_krajiny\", \"zemepisna_sirka\",\n",
    "           \"zemepisna_delka\", \"gps_typ\"]\n",
    "\n",
    "Oblast_DIM = nemovitosti[columns]"
   ]
  },
  {
   "cell_type": "code",
   "execution_count": 8,
   "metadata": {},
   "outputs": [],
   "source": [
    "Oblast_DIM.to_csv(\"Oblast_DIM.csv\", index=False, encoding=\"utf-8\")"
   ]
  }
 ],
 "metadata": {
  "kernelspec": {
   "display_name": "Python 3",
   "language": "python",
   "name": "python3"
  },
  "language_info": {
   "codemirror_mode": {
    "name": "ipython",
    "version": 3
   },
   "file_extension": ".py",
   "mimetype": "text/x-python",
   "name": "python",
   "nbconvert_exporter": "python",
   "pygments_lexer": "ipython3",
   "version": "3.12.1"
  }
 },
 "nbformat": 4,
 "nbformat_minor": 2
}
